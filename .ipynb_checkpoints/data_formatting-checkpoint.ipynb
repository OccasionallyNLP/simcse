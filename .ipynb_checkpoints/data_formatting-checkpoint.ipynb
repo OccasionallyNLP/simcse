{
 "cells": [
  {
   "cell_type": "code",
   "execution_count": 1,
   "id": "10e36f4c-ed13-4b82-930b-a2c9dc0e5a14",
   "metadata": {},
   "outputs": [],
   "source": [
    "from utils.utils import *"
   ]
  },
  {
   "cell_type": "code",
   "execution_count": 2,
   "id": "17134818-890b-4134-be19-316c0ce76cb2",
   "metadata": {},
   "outputs": [
    {
     "name": "stderr",
     "output_type": "stream",
     "text": [
      "34522it [00:00, 214739.71it/s]\n"
     ]
    }
   ],
   "source": [
    "data = load_jsonl('../kor-nlu-datasets/xnli_klue_nli.jsonl')"
   ]
  },
  {
   "cell_type": "code",
   "execution_count": 6,
   "id": "775673c0-a09b-4e04-9c69-d896696730b0",
   "metadata": {},
   "outputs": [],
   "source": [
    "data = [i for i in data if i['label']!=1]"
   ]
  },
  {
   "cell_type": "code",
   "execution_count": 8,
   "id": "222ded51-959d-4bb1-947d-fce229271e68",
   "metadata": {},
   "outputs": [],
   "source": [
    "for i in data:\n",
    "    if i['label']==2:\n",
    "        i['label']=1"
   ]
  },
  {
   "cell_type": "code",
   "execution_count": 15,
   "id": "842db5fc-1027-4be6-9a4a-b048f68045b3",
   "metadata": {},
   "outputs": [
    {
     "name": "stderr",
     "output_type": "stream",
     "text": [
      "100%|████████████████████████████████████████████████████████████████████████| 23400/23400 [00:00<00:00, 794684.49it/s]\n"
     ]
    }
   ],
   "source": [
    "from collections import defaultdict\n",
    "after_data = defaultdict(list)\n",
    "for i in tqdm(data):\n",
    "    after_data[i['premise']].append([i['hypothesis'],i['label']])"
   ]
  },
  {
   "cell_type": "code",
   "execution_count": 21,
   "id": "8eea9c74-d6ca-46c6-b435-5cb8c40d1f50",
   "metadata": {},
   "outputs": [],
   "source": [
    "check = {}\n",
    "for key, value in after_data.items():\n",
    "    tmp = [j[1] for j in value]\n",
    "    if 1 in tmp and 0 in tmp:\n",
    "        check[key]=value"
   ]
  },
  {
   "cell_type": "code",
   "execution_count": 29,
   "id": "c2461b22-161c-4ac8-b9e5-8f07cf839cec",
   "metadata": {},
   "outputs": [],
   "source": [
    "final_data = []\n",
    "for key,value in check.items():\n",
    "    for v in value:\n",
    "        if v[1]==0:\n",
    "            pos = v[0]\n",
    "        elif v[1]==1:\n",
    "            neg = v[0]\n",
    "    final_data.append(dict(anchor=key, positive=pos, negative=neg))"
   ]
  },
  {
   "cell_type": "code",
   "execution_count": 30,
   "id": "536a94c9-b9df-41a2-bbf4-02e4922eb7bc",
   "metadata": {},
   "outputs": [
    {
     "name": "stderr",
     "output_type": "stream",
     "text": [
      "100%|████████████████████████████████████████████████████████████████████████| 11219/11219 [00:00<00:00, 178853.11it/s]\n"
     ]
    }
   ],
   "source": [
    "save_jsonl('.',final_data,'nli')"
   ]
  },
  {
   "cell_type": "code",
   "execution_count": 32,
   "id": "9ff5d392-4463-411a-838f-6961b9ae3e2d",
   "metadata": {},
   "outputs": [
    {
     "data": {
      "text/plain": [
       "{'anchor': '힛걸 진심 최고다 그 어떤 히어로보다 멋지다',\n",
       " 'positive': '힛걸 진심 최고로 멋지다.',\n",
       " 'negative': '힛걸 그 어떤 히어로보다 별로다.'}"
      ]
     },
     "execution_count": 32,
     "metadata": {},
     "output_type": "execute_result"
    }
   ],
   "source": [
    "final_data[0]"
   ]
  },
  {
   "cell_type": "code",
   "execution_count": 43,
   "id": "0b3f7e1d-b128-4dc5-bed8-3261983638a5",
   "metadata": {},
   "outputs": [
    {
     "name": "stderr",
     "output_type": "stream",
     "text": [
      "1639it [00:00, 149276.13it/s]\n"
     ]
    }
   ],
   "source": [
    "data = load_jsonl('../kor-nlu-datasets/sts_test.jsonl')"
   ]
  },
  {
   "cell_type": "code",
   "execution_count": 44,
   "id": "c1d74ca7-a1cd-41c2-b52b-76848183fe36",
   "metadata": {},
   "outputs": [],
   "source": [
    "sts_data = []\n",
    "for i in data:\n",
    "    if type(i['sentence1'])!=str or type(i['sentence2'])!=str:\n",
    "        continue\n",
    "    else:\n",
    "        sts_data.append(i)"
   ]
  },
  {
   "cell_type": "code",
   "execution_count": 45,
   "id": "0ee15482-a3dd-46a5-84de-aa7d533b8784",
   "metadata": {},
   "outputs": [
    {
     "name": "stderr",
     "output_type": "stream",
     "text": [
      "100%|██████████████████████████████████████████████████████████████████████████| 1636/1636 [00:00<00:00, 125996.24it/s]\n"
     ]
    }
   ],
   "source": [
    "save_jsonl('.',sts_data, 'sts_test')"
   ]
  },
  {
   "cell_type": "code",
   "execution_count": 35,
   "id": "6e63d8af-d873-4895-a4ff-849f28fbb0f1",
   "metadata": {},
   "outputs": [],
   "source": [
    "import torch"
   ]
  },
  {
   "cell_type": "code",
   "execution_count": 36,
   "id": "8a776b4a-0d50-4189-8e1b-ca6a693a7275",
   "metadata": {},
   "outputs": [
    {
     "data": {
      "text/plain": [
       "tensor([0, 1])"
      ]
     },
     "execution_count": 36,
     "metadata": {},
     "output_type": "execute_result"
    }
   ],
   "source": [
    "torch.arange(2)"
   ]
  }
 ],
 "metadata": {
  "kernelspec": {
   "display_name": "Python 3 (ipykernel)",
   "language": "python",
   "name": "python3"
  },
  "language_info": {
   "codemirror_mode": {
    "name": "ipython",
    "version": 3
   },
   "file_extension": ".py",
   "mimetype": "text/x-python",
   "name": "python",
   "nbconvert_exporter": "python",
   "pygments_lexer": "ipython3",
   "version": "3.9.7"
  }
 },
 "nbformat": 4,
 "nbformat_minor": 5
}
